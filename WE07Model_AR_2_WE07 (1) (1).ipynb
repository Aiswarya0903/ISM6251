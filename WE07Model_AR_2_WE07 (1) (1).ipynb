{
  "cells": [
    {
      "cell_type": "markdown",
      "metadata": {
        "id": "N6r9IUHTt4Tw"
      },
      "source": [
        "## Importing Packages"
      ]
    },
    {
      "cell_type": "code",
      "execution_count": 5,
      "metadata": {
        "colab": {
          "base_uri": "https://localhost:8080/"
        },
        "id": "XztdkwCKsnu4",
        "outputId": "a4b6353e-f14a-4688-865e-f087c159af00"
      },
      "outputs": [
        {
          "output_type": "stream",
          "name": "stdout",
          "text": [
            "Looking in indexes: https://pypi.org/simple, https://us-python.pkg.dev/colab-wheels/public/simple/\n",
            "Requirement already satisfied: xgboost in /usr/local/lib/python3.9/dist-packages (1.7.4)\n",
            "Requirement already satisfied: scipy in /usr/local/lib/python3.9/dist-packages (from xgboost) (1.10.1)\n",
            "Requirement already satisfied: numpy in /usr/local/lib/python3.9/dist-packages (from xgboost) (1.22.4)\n",
            "Looking in indexes: https://pypi.org/simple, https://us-python.pkg.dev/colab-wheels/public/simple/\n",
            "Requirement already satisfied: imblearn in /usr/local/lib/python3.9/dist-packages (0.0)\n",
            "Requirement already satisfied: imbalanced-learn in /usr/local/lib/python3.9/dist-packages (from imblearn) (0.10.1)\n",
            "Requirement already satisfied: threadpoolctl>=2.0.0 in /usr/local/lib/python3.9/dist-packages (from imbalanced-learn->imblearn) (3.1.0)\n",
            "Requirement already satisfied: joblib>=1.1.1 in /usr/local/lib/python3.9/dist-packages (from imbalanced-learn->imblearn) (1.1.1)\n",
            "Requirement already satisfied: scikit-learn>=1.0.2 in /usr/local/lib/python3.9/dist-packages (from imbalanced-learn->imblearn) (1.2.2)\n",
            "Requirement already satisfied: scipy>=1.3.2 in /usr/local/lib/python3.9/dist-packages (from imbalanced-learn->imblearn) (1.10.1)\n",
            "Requirement already satisfied: numpy>=1.17.3 in /usr/local/lib/python3.9/dist-packages (from imbalanced-learn->imblearn) (1.22.4)\n"
          ]
        }
      ],
      "source": [
        "# import packages\n",
        "import pandas as pd\n",
        "import numpy as np\n",
        "from sklearn.model_selection import train_test_split\n",
        "from sklearn.tree import DecisionTreeClassifier\n",
        "from sklearn.ensemble import RandomForestRegressor\n",
        "from sklearn.ensemble import RandomForestClassifier, GradientBoostingClassifier, AdaBoostClassifier\n",
        "from sklearn.model_selection import RandomizedSearchCV\n",
        "from sklearn.metrics import confusion_matrix, accuracy_score, precision_score, recall_score, f1_score\n",
        "from sklearn.model_selection import GridSearchCV, RandomizedSearchCV\n",
        "from xgboost import XGBClassifier\n",
        "from scipy.stats import randint\n",
        "from sklearn.metrics import make_scorer, recall_score\n",
        "from sklearn.metrics import classification_report\n",
        "from sklearn.metrics import accuracy_score, precision_score, recall_score, f1_score\n",
        "!pip install xgboost\n",
        "from sklearn.preprocessing import LabelEncoder\n",
        "from sklearn import preprocessing\n",
        "from sklearn.impute import SimpleImputer\n",
        "!pip install imblearn\n",
        "from imblearn.over_sampling import SMOTE\n",
        "from sklearn.utils import resample\n",
        "from imblearn.over_sampling import RandomOverSampler\n",
        "from sklearn.linear_model import LogisticRegression\n",
        "from sklearn.svm import SVC\n",
        "import warnings\n",
        "warnings.filterwarnings(\"ignore\")\n",
        "from sklearn.metrics import get_scorer_names\n",
        "from sklearn.neural_network import MLPClassifier\n"
      ]
    },
    {
      "cell_type": "markdown",
      "metadata": {
        "id": "eFithsLjt_JP"
      },
      "source": [
        "## Load data"
      ]
    },
    {
      "cell_type": "code",
      "execution_count": 6,
      "metadata": {
        "colab": {
          "base_uri": "https://localhost:8080/"
        },
        "id": "l4yAlULVtzxq",
        "outputId": "f0fc062d-03ca-4886-af78-143f2d7f3703"
      },
      "outputs": [
        {
          "output_type": "stream",
          "name": "stdout",
          "text": [
            "Drive already mounted at /content/gdrive; to attempt to forcibly remount, call drive.mount(\"/content/gdrive\", force_remount=True).\n"
          ]
        }
      ],
      "source": [
        "from google.colab import drive \n",
        "drive.mount('/content/gdrive')\n",
        "\n",
        "train_X =pd.read_csv('gdrive/My Drive/aaw_train_X.csv')\n",
        "train_y =pd.read_csv('gdrive/My Drive/aaw_train_y.csv')\n",
        "test_X =pd.read_csv('gdrive/My Drive/aaw_test_X.csv')\n",
        "test_y =pd.read_csv('gdrive/My Drive/aaw_test_y.csv')"
      ]
    },
    {
      "cell_type": "markdown",
      "metadata": {
        "id": "P5Lh4EMW1682"
      },
      "source": [
        "## Model the data"
      ]
    },
    {
      "cell_type": "code",
      "execution_count": 7,
      "metadata": {
        "id": "1ucM3q7D18-A"
      },
      "outputs": [],
      "source": [
        "performance = pd.DataFrame({\"model\": [], \"Accuracy\": [], \"Precision\": [], \"Recall\": [], \"F1\": []})"
      ]
    },
    {
      "cell_type": "markdown",
      "metadata": {
        "id": "LsjnyomX2chy"
      },
      "source": [
        "## LOGISTIC REGRESSION "
      ]
    },
    {
      "cell_type": "markdown",
      "metadata": {
        "id": "FeurIedY2iSm"
      },
      "source": [
        "### LOGISTIC REGRESSION - RANDOM SEARCH"
      ]
    },
    {
      "cell_type": "code",
      "execution_count": null,
      "metadata": {
        "colab": {
          "base_uri": "https://localhost:8080/"
        },
        "id": "0kpxEhum2guD",
        "outputId": "2a13ce93-d04a-4767-9aae-2b2324b0fe14"
      },
      "outputs": [
        {
          "name": "stdout",
          "output_type": "stream",
          "text": [
            "Fitting 5 folds for each of 500 candidates, totalling 2500 fits\n",
            "The best accuracy score is 1.0\n",
            "... with parameters: {'solver': 'liblinear', 'penalty': 'l1', 'max_iter': 464}\n"
          ]
        }
      ],
      "source": [
        "score_measure = \"accuracy\"\n",
        "kfolds = 5\n",
        "\n",
        "param_grid = {\n",
        "    'max_iter' : np.arange(300,1000),\n",
        "    'penalty': ['none','l1','l2','elasticnet'],\n",
        "    'solver':['saga','liblinear']\n",
        "}\n",
        "\n",
        "logistic_reg = LogisticRegression()\n",
        "rand_search = RandomizedSearchCV(estimator = logistic_reg, param_distributions=param_grid, cv=kfolds, n_iter=500,\n",
        "                           scoring=score_measure, verbose=1, n_jobs=-1, \n",
        "                           return_train_score=True)\n",
        "\n",
        "_ = rand_search.fit(train_X, train_y)\n",
        "\n",
        "print(f\"The best {score_measure} score is {rand_search.best_score_}\")\n",
        "print(f\"... with parameters: {rand_search.best_params_}\")"
      ]
    },
    {
      "cell_type": "markdown",
      "metadata": {
        "id": "1DQcmg-03ZFY"
      },
      "source": [
        "### LOGISTIC REGRESSION - GRID SEARCH"
      ]
    },
    {
      "cell_type": "code",
      "execution_count": null,
      "metadata": {
        "colab": {
          "base_uri": "https://localhost:8080/"
        },
        "id": "YggsYEpM3f2n",
        "outputId": "6b30f3d5-ac5f-4d58-9367-abe63124834f"
      },
      "outputs": [
        {
          "name": "stdout",
          "output_type": "stream",
          "text": [
            "Fitting 5 folds for each of 10 candidates, totalling 50 fits\n",
            "The best accuracy score is 1.0\n",
            "... with parameters: {'max_iter': 460, 'penalty': 'l1', 'solver': 'liblinear'}\n"
          ]
        }
      ],
      "source": [
        "score_measure = \"accuracy\"\n",
        "kfolds = 5\n",
        "max_iter = rand_search.best_params_['max_iter']\n",
        "penalty = rand_search.best_params_['penalty']\n",
        "solver = rand_search.best_params_['solver']\n",
        "\n",
        "param_grid = {  \n",
        "    'max_iter' : np.arange(max_iter-5,max_iter+5),\n",
        "    'penalty': [penalty],\n",
        "    'solver': [solver]\n",
        "}\n",
        "\n",
        "logistic_reg = LogisticRegression()\n",
        "grid_search = GridSearchCV(estimator = logistic_reg, param_grid=param_grid, cv=kfolds, \n",
        "                           scoring=score_measure, verbose=1, n_jobs=-1,\n",
        "                           return_train_score=True)\n",
        "\n",
        "_ = grid_search.fit(train_X, train_y)\n",
        "\n",
        "print(f\"The best {score_measure} score is {grid_search.best_score_}\")\n",
        "print(f\"... with parameters: {grid_search.best_params_}\")\n",
        "\n",
        "bestRecallLogistic = grid_search.best_estimator_"
      ]
    },
    {
      "cell_type": "code",
      "execution_count": null,
      "metadata": {
        "id": "apNLSOxT3qqB"
      },
      "outputs": [],
      "source": [
        "c_matrix = confusion_matrix(test_y, grid_search.predict(test_X))\n",
        "TP = c_matrix[1][1]\n",
        "TN = c_matrix[0][0]\n",
        "FP = c_matrix[0][1]\n",
        "FN = c_matrix[1][0]\n",
        "performance = pd.concat([performance, pd.DataFrame({'model':\"Logistic Regression\", \n",
        "                                                    'Accuracy': [(TP+TN)/(TP+TN+FP+FN)], \n",
        "                                                    'Precision': [TP/(TP+FP)], \n",
        "                                                    'Recall': [TP/(TP+FN)], \n",
        "                                                    'F1': [2*TP/(2*TP+FP+FN)]\n",
        "                                                     }, index=[0])])"
      ]
    },
    {
      "cell_type": "markdown",
      "metadata": {
        "id": "-HgpTc4STP4B"
      },
      "source": [
        "## SVM"
      ]
    },
    {
      "cell_type": "markdown",
      "metadata": {
        "id": "3ybttuFNTXWt"
      },
      "source": [
        "### SVM CLASSIFIER - LINEAR - RBF - POLY - RANDOM SEARCH"
      ]
    },
    {
      "cell_type": "code",
      "execution_count": null,
      "metadata": {
        "colab": {
          "base_uri": "https://localhost:8080/"
        },
        "id": "qk18i-ItTZ4x",
        "outputId": "8c27367b-3424-4d79-d2c8-ebda1fbdccd2"
      },
      "outputs": [
        {
          "name": "stdout",
          "output_type": "stream",
          "text": [
            "Fitting 5 folds for each of 114 candidates, totalling 570 fits\n",
            "The best accuracy score is 0.9984375\n",
            "... with parameters: {'kernel': 'linear', 'gamma': 'scale', 'C': 1}\n"
          ]
        }
      ],
      "source": [
        "score_measure = \"accuracy\"\n",
        "kfolds = 5\n",
        "\n",
        "param_grid = {\n",
        "    'C': np.arange(1,20),   \n",
        "    'gamma': ['scale','auto'],\n",
        "    'kernel':['linear','rbf','poly']\n",
        "}\n",
        "\n",
        "svm = SVC()\n",
        "rand_search = RandomizedSearchCV(estimator = svm, param_distributions=param_grid, cv=kfolds, n_iter=300,\n",
        "                           scoring=score_measure, verbose=1, n_jobs=-1, \n",
        "                           return_train_score=True)\n",
        "\n",
        "_ = rand_search.fit(train_X, train_y)\n",
        "\n",
        "print(f\"The best {score_measure} score is {rand_search.best_score_}\")\n",
        "print(f\"... with parameters: {rand_search.best_params_}\")"
      ]
    },
    {
      "cell_type": "markdown",
      "metadata": {
        "id": "6j_lsNrZT30V"
      },
      "source": [
        "### SVM CLASSIFIER - LINEAR - RBF - POLY - GRID SEARCH"
      ]
    },
    {
      "cell_type": "code",
      "execution_count": null,
      "metadata": {
        "colab": {
          "base_uri": "https://localhost:8080/"
        },
        "id": "wU8v5HGqT611",
        "outputId": "9e3dac9d-ad5c-4e23-fd03-f4afcef6917b"
      },
      "outputs": [
        {
          "name": "stdout",
          "output_type": "stream",
          "text": [
            "Fitting 5 folds for each of 6 candidates, totalling 30 fits\n",
            "The best accuracy score is 0.9984375\n",
            "... with parameters: {'C': 1, 'gamma': 'scale', 'kernel': 'linear'}\n"
          ]
        }
      ],
      "source": [
        "score_measure = \"accuracy\"\n",
        "kfolds = 5\n",
        "\n",
        "C = rand_search.best_params_['C']\n",
        "gamma = rand_search.best_params_['gamma']\n",
        "kernel = rand_search.best_params_['kernel']\n",
        "\n",
        "param_grid = {\n",
        "    'C': np.arange(C-3,C+3),  \n",
        "    'gamma': [gamma],\n",
        "    'kernel': [kernel]\n",
        "    \n",
        "}\n",
        "\n",
        "svm = SVC()\n",
        "grid_search = GridSearchCV(estimator = svm, param_grid=param_grid, cv=kfolds, \n",
        "                           scoring=score_measure, verbose=1, n_jobs=-1,\n",
        "                           return_train_score=True)\n",
        "\n",
        "_ = grid_search.fit(train_X, train_y)\n",
        "\n",
        "print(f\"The best {score_measure} score is {grid_search.best_score_}\")\n",
        "print(f\"... with parameters: {grid_search.best_params_}\")\n",
        "\n",
        "bestRecallSVM = grid_search.best_estimator_"
      ]
    },
    {
      "cell_type": "code",
      "execution_count": null,
      "metadata": {
        "id": "V4DxN9r8UQKJ"
      },
      "outputs": [],
      "source": [
        "c_matrix = confusion_matrix(test_y, grid_search.predict(test_X))\n",
        "TP = c_matrix[1][1]\n",
        "TN = c_matrix[0][0]\n",
        "FP = c_matrix[0][1]\n",
        "FN = c_matrix[1][0]\n",
        "performance = pd.concat([performance, pd.DataFrame({'model':\"SVM\", \n",
        "                                                    'Accuracy': [(TP+TN)/(TP+TN+FP+FN)], \n",
        "                                                    'Precision': [TP/(TP+FP)], \n",
        "                                                    'Recall': [TP/(TP+FN)], \n",
        "                                                    'F1': [2*TP/(2*TP+FP+FN)]\n",
        "                                                     }, index=[0])])"
      ]
    },
    {
      "cell_type": "markdown",
      "metadata": {
        "id": "RvmxiTnWUTU3"
      },
      "source": [
        "## DECISION TREE"
      ]
    },
    {
      "cell_type": "markdown",
      "metadata": {
        "id": "LWB-w6QJxfaS"
      },
      "source": [
        "### DECISION TREE - RANDOM SEARCH"
      ]
    },
    {
      "cell_type": "code",
      "execution_count": null,
      "metadata": {
        "colab": {
          "base_uri": "https://localhost:8080/"
        },
        "id": "Mui8vZN2zfjM",
        "outputId": "02dce46a-912f-4e05-fff9-7aa19946d582"
      },
      "outputs": [
        {
          "name": "stdout",
          "output_type": "stream",
          "text": [
            "['accuracy', 'adjusted_mutual_info_score', 'adjusted_rand_score', 'average_precision', 'balanced_accuracy', 'completeness_score', 'explained_variance', 'f1', 'f1_macro', 'f1_micro', 'f1_samples', 'f1_weighted', 'fowlkes_mallows_score', 'homogeneity_score', 'jaccard', 'jaccard_macro', 'jaccard_micro', 'jaccard_samples', 'jaccard_weighted', 'matthews_corrcoef', 'max_error', 'mutual_info_score', 'neg_brier_score', 'neg_log_loss', 'neg_mean_absolute_error', 'neg_mean_absolute_percentage_error', 'neg_mean_gamma_deviance', 'neg_mean_poisson_deviance', 'neg_mean_squared_error', 'neg_mean_squared_log_error', 'neg_median_absolute_error', 'neg_negative_likelihood_ratio', 'neg_root_mean_squared_error', 'normalized_mutual_info_score', 'positive_likelihood_ratio', 'precision', 'precision_macro', 'precision_micro', 'precision_samples', 'precision_weighted', 'r2', 'rand_score', 'recall', 'recall_macro', 'recall_micro', 'recall_samples', 'recall_weighted', 'roc_auc', 'roc_auc_ovo', 'roc_auc_ovo_weighted', 'roc_auc_ovr', 'roc_auc_ovr_weighted', 'top_k_accuracy', 'v_measure_score']\n"
          ]
        }
      ],
      "source": [
        "print(get_scorer_names())"
      ]
    },
    {
      "cell_type": "code",
      "execution_count": null,
      "metadata": {
        "colab": {
          "base_uri": "https://localhost:8080/"
        },
        "id": "OxDh9XpkUY1R",
        "outputId": "4249a71e-ab8b-42ac-8d33-5e92c1289475"
      },
      "outputs": [
        {
          "name": "stdout",
          "output_type": "stream",
          "text": [
            "Fitting 5 folds for each of 500 candidates, totalling 2500 fits\n",
            "The best accuracy score is 1.0\n",
            "... with parameters: {'min_samples_split': 39, 'min_samples_leaf': 49, 'min_impurity_decrease': 0.0026, 'max_leaf_nodes': 17, 'max_depth': 8, 'criterion': 'gini'}\n"
          ]
        }
      ],
      "source": [
        "score_measure = \"accuracy\"\n",
        "kfolds = 5\n",
        "\n",
        "param_grid = {\n",
        "    'min_samples_split': np.arange(1,50),  \n",
        "    'min_samples_leaf': np.arange(1,50),\n",
        "    'min_impurity_decrease': np.arange(0.0001, 0.01, 0.0005),\n",
        "    'max_leaf_nodes': np.arange(5, 50), \n",
        "    'max_depth': np.arange(1,50), \n",
        "    'criterion': ['entropy', 'gini'],\n",
        "}\n",
        "\n",
        "dtree = DecisionTreeClassifier()\n",
        "rand_search = RandomizedSearchCV(estimator = dtree, param_distributions=param_grid, cv=kfolds, n_iter=500,\n",
        "                           scoring=score_measure, verbose=1, n_jobs=-1, \n",
        "                           return_train_score=True)\n",
        "\n",
        "_ = rand_search.fit(train_X, train_y)\n",
        "\n",
        "print(f\"The best {score_measure} score is {rand_search.best_score_}\")\n",
        "print(f\"... with parameters: {rand_search.best_params_}\")"
      ]
    },
    {
      "cell_type": "markdown",
      "metadata": {
        "id": "7bCLkE2EUem5"
      },
      "source": [
        "### DECISION TREE - GRID SEARCH"
      ]
    },
    {
      "cell_type": "code",
      "execution_count": null,
      "metadata": {
        "colab": {
          "base_uri": "https://localhost:8080/"
        },
        "id": "_w3eDu5QUjIR",
        "outputId": "9aec24a1-4e5e-429a-eba6-e4a74c9bf124"
      },
      "outputs": [
        {
          "name": "stdout",
          "output_type": "stream",
          "text": [
            "Fitting 5 folds for each of 1024 candidates, totalling 5120 fits\n",
            "The best accuracy score is 1.0\n",
            "... with parameters: {'criterion': 'gini', 'max_depth': 6, 'max_leaf_nodes': 15, 'min_impurity_decrease': 0.0025, 'min_samples_leaf': 47, 'min_samples_split': 37}\n"
          ]
        }
      ],
      "source": [
        "score_measure = \"accuracy\"\n",
        "kfolds = 5\n",
        "min_samples_split = rand_search.best_params_['min_samples_split']\n",
        "min_samples_leaf = rand_search.best_params_['min_samples_leaf']\n",
        "min_impurity_decrease = rand_search.best_params_['min_impurity_decrease']\n",
        "max_leaf_nodes = rand_search.best_params_['max_leaf_nodes']\n",
        "max_depth = rand_search.best_params_['max_depth']\n",
        "criterion = rand_search.best_params_['criterion']\n",
        "\n",
        "param_grid = {\n",
        "    'min_samples_split': np.arange(min_samples_split-2,min_samples_split+2),  \n",
        "    'min_samples_leaf': np.arange(min_samples_leaf-2,min_samples_leaf+2),\n",
        "    'min_impurity_decrease': np.arange(min_impurity_decrease-0.0001, min_impurity_decrease+0.0001, 0.00005),\n",
        "    'max_leaf_nodes': np.arange(max_leaf_nodes-2,max_leaf_nodes+2), \n",
        "    'max_depth': np.arange(max_depth-2,max_depth+2), \n",
        "    'criterion': [criterion]\n",
        "}\n",
        "\n",
        "dtree = DecisionTreeClassifier()\n",
        "grid_search = GridSearchCV(estimator = dtree, param_grid=param_grid, cv=kfolds, \n",
        "                           scoring=score_measure, verbose=1, n_jobs=-1,\n",
        "                           return_train_score=True)\n",
        "\n",
        "_ = grid_search.fit(train_X, train_y)\n",
        "\n",
        "print(f\"The best {score_measure} score is {grid_search.best_score_}\")\n",
        "print(f\"... with parameters: {grid_search.best_params_}\")\n",
        "\n",
        "bestRecallTree = grid_search.best_estimator_"
      ]
    },
    {
      "cell_type": "code",
      "execution_count": null,
      "metadata": {
        "id": "2tQmF_TnUnCx"
      },
      "outputs": [],
      "source": [
        "c_matrix = confusion_matrix(test_y, grid_search.predict(test_X))\n",
        "TP = c_matrix[1][1]\n",
        "TN = c_matrix[0][0]\n",
        "FP = c_matrix[0][1]\n",
        "FN = c_matrix[1][0]\n",
        "performance = pd.concat([performance, pd.DataFrame({'model':\"Decision Tree\", \n",
        "                                                    'Accuracy': [(TP+TN)/(TP+TN+FP+FN)], \n",
        "                                                    'Precision': [TP/(TP+FP)], \n",
        "                                                    'Recall': [TP/(TP+FN)], \n",
        "                                                    'F1': [2*TP/(2*TP+FP+FN)]\n",
        "                                                     }, index=[0])])"
      ]
    },
    {
      "cell_type": "markdown",
      "source": [
        "## NEURAL NETWORKS"
      ],
      "metadata": {
        "id": "vwTz0DNfBdQm"
      }
    },
    {
      "cell_type": "code",
      "source": [
        "%%time\n",
        "\n",
        "ann = MLPClassifier(hidden_layer_sizes=(60,50,40), solver='adam', max_iter=200)\n",
        "_ = ann.fit(train_X, train_y)"
      ],
      "metadata": {
        "colab": {
          "base_uri": "https://localhost:8080/"
        },
        "id": "F7C-wp-_BvOT",
        "outputId": "8929a8b8-3054-4f62-9a5b-a9ee6c4b40b1"
      },
      "execution_count": 8,
      "outputs": [
        {
          "output_type": "stream",
          "name": "stdout",
          "text": [
            "CPU times: user 967 ms, sys: 940 ms, total: 1.91 s\n",
            "Wall time: 1.95 s\n"
          ]
        }
      ]
    },
    {
      "cell_type": "code",
      "source": [
        "%%time\n",
        "y_pred = ann.predict(test_X)"
      ],
      "metadata": {
        "colab": {
          "base_uri": "https://localhost:8080/"
        },
        "id": "1W7OLh8uBvTk",
        "outputId": "72d8a98e-d33a-466c-ac29-efd10501fbab"
      },
      "execution_count": 9,
      "outputs": [
        {
          "output_type": "stream",
          "name": "stdout",
          "text": [
            "CPU times: user 3.81 ms, sys: 0 ns, total: 3.81 ms\n",
            "Wall time: 7.64 ms\n"
          ]
        }
      ]
    },
    {
      "cell_type": "code",
      "source": [
        "print(classification_report(test_y, y_pred))"
      ],
      "metadata": {
        "colab": {
          "base_uri": "https://localhost:8080/"
        },
        "id": "caFnikOEBvYe",
        "outputId": "fa189bf9-5b2e-45c2-e361-b02f04d68186"
      },
      "execution_count": 10,
      "outputs": [
        {
          "output_type": "stream",
          "name": "stdout",
          "text": [
            "              precision    recall  f1-score   support\n",
            "\n",
            "           0       0.99      0.99      0.99       141\n",
            "           1       0.99      0.98      0.98        81\n",
            "\n",
            "    accuracy                           0.99       222\n",
            "   macro avg       0.99      0.98      0.99       222\n",
            "weighted avg       0.99      0.99      0.99       222\n",
            "\n"
          ]
        }
      ]
    },
    {
      "cell_type": "markdown",
      "source": [
        "### NEURAL NETWORKS - RANDOM SEARCH"
      ],
      "metadata": {
        "id": "tK37WzTtBgjC"
      }
    },
    {
      "cell_type": "code",
      "source": [
        "%%time\n",
        "\n",
        "score_measure = \"accuracy\"\n",
        "kfolds = 5\n",
        "\n",
        "param_grid = {\n",
        "    'hidden_layer_sizes': [ (50,), (70,),(50,30), (40,20), (60,40, 20), (70,50,40)],\n",
        "    'activation': ['logistic', 'tanh', 'relu'],\n",
        "    'solver': ['adam', 'sgd'],\n",
        "    'alpha': [0, .2, .5, .7, 1],\n",
        "    'learning_rate': ['constant', 'invscaling', 'adaptive'],\n",
        "    'learning_rate_init': [0.001, 0.01, 0.1, 0.2, 0.5],\n",
        "    'max_iter': [5000]\n",
        "}\n",
        "\n",
        "ann = MLPClassifier()\n",
        "grid_search = RandomizedSearchCV(estimator = ann, param_distributions=param_grid, cv=kfolds, n_iter=100,\n",
        "                           scoring=score_measure, verbose=1, n_jobs=-1,  # n_jobs=-1 will utilize all available CPUs \n",
        "                           return_train_score=True)\n",
        "\n",
        "_ = grid_search.fit(train_X, train_y)\n",
        "\n",
        "bestRecallTree = grid_search.best_estimator_\n",
        "\n",
        "print(grid_search.best_params_)"
      ],
      "metadata": {
        "colab": {
          "base_uri": "https://localhost:8080/"
        },
        "id": "0TQ41_oACCd1",
        "outputId": "8621e409-175c-4eb4-e0bc-031e8e0fae6c"
      },
      "execution_count": 14,
      "outputs": [
        {
          "output_type": "stream",
          "name": "stdout",
          "text": [
            "Fitting 5 folds for each of 100 candidates, totalling 500 fits\n",
            "{'solver': 'sgd', 'max_iter': 5000, 'learning_rate_init': 0.01, 'learning_rate': 'adaptive', 'hidden_layer_sizes': (40, 20), 'alpha': 0.2, 'activation': 'logistic'}\n",
            "CPU times: user 3.82 s, sys: 227 ms, total: 4.04 s\n",
            "Wall time: 4min 43s\n"
          ]
        }
      ]
    },
    {
      "cell_type": "code",
      "source": [
        "%%time\n",
        "y_pred = bestRecallTree.predict(test_X)\n",
        "\n",
        "print(classification_report(test_y, y_pred))"
      ],
      "metadata": {
        "colab": {
          "base_uri": "https://localhost:8080/"
        },
        "id": "utNumF1WCClF",
        "outputId": "40430200-2337-451c-f06b-6c153c961488"
      },
      "execution_count": 15,
      "outputs": [
        {
          "output_type": "stream",
          "name": "stdout",
          "text": [
            "              precision    recall  f1-score   support\n",
            "\n",
            "           0       0.98      1.00      0.99       141\n",
            "           1       1.00      0.96      0.98        81\n",
            "\n",
            "    accuracy                           0.99       222\n",
            "   macro avg       0.99      0.98      0.99       222\n",
            "weighted avg       0.99      0.99      0.99       222\n",
            "\n",
            "CPU times: user 16.8 ms, sys: 742 µs, total: 17.6 ms\n",
            "Wall time: 18.1 ms\n"
          ]
        }
      ]
    },
    {
      "cell_type": "markdown",
      "source": [
        "### NEURAL NETWOKS - GRID SEARCH"
      ],
      "metadata": {
        "id": "DUfV1vkKBo6G"
      }
    },
    {
      "cell_type": "code",
      "source": [
        "%%time\n",
        "\n",
        "score_measure = \"accuracy\"\n",
        "kfolds = 5\n",
        "\n",
        "param_grid = {\n",
        "    'hidden_layer_sizes': [ (30,), (50,), (70,), (90,)],\n",
        "    'activation': ['tanh', 'relu'],\n",
        "    'solver': ['adam'],\n",
        "    'alpha': [.5, .7, 1],\n",
        "    'learning_rate': ['adaptive', 'invscaling'],\n",
        "    'learning_rate_init': [0.005, 0.01, 0.15],\n",
        "    'max_iter': [5000]\n",
        "}\n",
        "\n",
        "ann = MLPClassifier()\n",
        "grid_search = GridSearchCV(estimator = ann, param_grid=param_grid, cv=kfolds, \n",
        "                           scoring=score_measure, verbose=1, n_jobs=-1,  # n_jobs=-1 will utilize all available CPUs \n",
        "                           return_train_score=True)\n",
        "\n",
        "_ = grid_search.fit(train_X, train_y)\n",
        "\n",
        "bestRecallTree = grid_search.best_estimator_\n",
        "\n",
        "print(grid_search.best_params_)"
      ],
      "metadata": {
        "colab": {
          "base_uri": "https://localhost:8080/"
        },
        "id": "eruc4bbu_1DF",
        "outputId": "f6fd4547-1a0f-4849-c5bd-a645465860a7"
      },
      "execution_count": 16,
      "outputs": [
        {
          "output_type": "stream",
          "name": "stdout",
          "text": [
            "Fitting 5 folds for each of 144 candidates, totalling 720 fits\n",
            "{'activation': 'tanh', 'alpha': 0.5, 'hidden_layer_sizes': (30,), 'learning_rate': 'adaptive', 'learning_rate_init': 0.005, 'max_iter': 5000, 'solver': 'adam'}\n",
            "CPU times: user 2.55 s, sys: 252 ms, total: 2.8 s\n",
            "Wall time: 2min 36s\n"
          ]
        }
      ]
    },
    {
      "cell_type": "code",
      "source": [
        "%%time\n",
        "y_pred = bestRecallTree.predict(test_X)\n",
        "\n",
        "print(classification_report(test_y, y_pred))"
      ],
      "metadata": {
        "colab": {
          "base_uri": "https://localhost:8080/"
        },
        "id": "PnNlY8wHCS1I",
        "outputId": "a882eb67-d4bf-416c-b47b-1a060c333981"
      },
      "execution_count": 17,
      "outputs": [
        {
          "output_type": "stream",
          "name": "stdout",
          "text": [
            "              precision    recall  f1-score   support\n",
            "\n",
            "           0       0.99      1.00      0.99       141\n",
            "           1       1.00      0.98      0.99        81\n",
            "\n",
            "    accuracy                           0.99       222\n",
            "   macro avg       0.99      0.99      0.99       222\n",
            "weighted avg       0.99      0.99      0.99       222\n",
            "\n",
            "CPU times: user 14.9 ms, sys: 0 ns, total: 14.9 ms\n",
            "Wall time: 15.9 ms\n"
          ]
        }
      ]
    },
    {
      "cell_type": "code",
      "source": [
        "c_matrix = confusion_matrix(test_y, grid_search.predict(test_X))\n",
        "TP = c_matrix[1][1]\n",
        "TN = c_matrix[0][0]\n",
        "FP = c_matrix[0][1]\n",
        "FN = c_matrix[1][0]\n",
        "performance = pd.concat([performance, pd.DataFrame({'model':\"NN_grid\", \n",
        "                                                    'Accuracy': [(TP+TN)/(TP+TN+FP+FN)], \n",
        "                                                    'Precision': [TP/(TP+FP)], \n",
        "                                                    'Recall': [TP/(TP+FN)], \n",
        "                                                    'F1': [2*TP/(2*TP+FP+FN)]\n",
        "                                                     }, index=[0])])"
      ],
      "metadata": {
        "id": "8lfctMSpCutH"
      },
      "execution_count": 18,
      "outputs": []
    },
    {
      "cell_type": "markdown",
      "metadata": {
        "id": "iCJAFWjZUrBK"
      },
      "source": [
        "## PERFORMANCE OF ALL MODELS"
      ]
    },
    {
      "cell_type": "code",
      "execution_count": null,
      "metadata": {
        "colab": {
          "base_uri": "https://localhost:8080/",
          "height": 143
        },
        "id": "QtgJLqwpugAM",
        "outputId": "4a62d418-c143-42f1-925d-c79266da721f"
      },
      "outputs": [
        {
          "data": {
            "text/html": [
              "\n",
              "  <div id=\"df-c9ddd758-a497-4cc1-aaeb-52b66f431265\">\n",
              "    <div class=\"colab-df-container\">\n",
              "      <div>\n",
              "<style scoped>\n",
              "    .dataframe tbody tr th:only-of-type {\n",
              "        vertical-align: middle;\n",
              "    }\n",
              "\n",
              "    .dataframe tbody tr th {\n",
              "        vertical-align: top;\n",
              "    }\n",
              "\n",
              "    .dataframe thead th {\n",
              "        text-align: right;\n",
              "    }\n",
              "</style>\n",
              "<table border=\"1\" class=\"dataframe\">\n",
              "  <thead>\n",
              "    <tr style=\"text-align: right;\">\n",
              "      <th></th>\n",
              "      <th>model</th>\n",
              "      <th>Accuracy</th>\n",
              "      <th>Precision</th>\n",
              "      <th>Recall</th>\n",
              "      <th>F1</th>\n",
              "    </tr>\n",
              "  </thead>\n",
              "  <tbody>\n",
              "    <tr>\n",
              "      <th>0</th>\n",
              "      <td>Logistic Regression</td>\n",
              "      <td>0.990991</td>\n",
              "      <td>1.0</td>\n",
              "      <td>0.975309</td>\n",
              "      <td>0.9875</td>\n",
              "    </tr>\n",
              "    <tr>\n",
              "      <th>0</th>\n",
              "      <td>SVM</td>\n",
              "      <td>1.000000</td>\n",
              "      <td>1.0</td>\n",
              "      <td>1.000000</td>\n",
              "      <td>1.0000</td>\n",
              "    </tr>\n",
              "    <tr>\n",
              "      <th>0</th>\n",
              "      <td>Decision Tree</td>\n",
              "      <td>1.000000</td>\n",
              "      <td>1.0</td>\n",
              "      <td>1.000000</td>\n",
              "      <td>1.0000</td>\n",
              "    </tr>\n",
              "  </tbody>\n",
              "</table>\n",
              "</div>\n",
              "      <button class=\"colab-df-convert\" onclick=\"convertToInteractive('df-c9ddd758-a497-4cc1-aaeb-52b66f431265')\"\n",
              "              title=\"Convert this dataframe to an interactive table.\"\n",
              "              style=\"display:none;\">\n",
              "        \n",
              "  <svg xmlns=\"http://www.w3.org/2000/svg\" height=\"24px\"viewBox=\"0 0 24 24\"\n",
              "       width=\"24px\">\n",
              "    <path d=\"M0 0h24v24H0V0z\" fill=\"none\"/>\n",
              "    <path d=\"M18.56 5.44l.94 2.06.94-2.06 2.06-.94-2.06-.94-.94-2.06-.94 2.06-2.06.94zm-11 1L8.5 8.5l.94-2.06 2.06-.94-2.06-.94L8.5 2.5l-.94 2.06-2.06.94zm10 10l.94 2.06.94-2.06 2.06-.94-2.06-.94-.94-2.06-.94 2.06-2.06.94z\"/><path d=\"M17.41 7.96l-1.37-1.37c-.4-.4-.92-.59-1.43-.59-.52 0-1.04.2-1.43.59L10.3 9.45l-7.72 7.72c-.78.78-.78 2.05 0 2.83L4 21.41c.39.39.9.59 1.41.59.51 0 1.02-.2 1.41-.59l7.78-7.78 2.81-2.81c.8-.78.8-2.07 0-2.86zM5.41 20L4 18.59l7.72-7.72 1.47 1.35L5.41 20z\"/>\n",
              "  </svg>\n",
              "      </button>\n",
              "      \n",
              "  <style>\n",
              "    .colab-df-container {\n",
              "      display:flex;\n",
              "      flex-wrap:wrap;\n",
              "      gap: 12px;\n",
              "    }\n",
              "\n",
              "    .colab-df-convert {\n",
              "      background-color: #E8F0FE;\n",
              "      border: none;\n",
              "      border-radius: 50%;\n",
              "      cursor: pointer;\n",
              "      display: none;\n",
              "      fill: #1967D2;\n",
              "      height: 32px;\n",
              "      padding: 0 0 0 0;\n",
              "      width: 32px;\n",
              "    }\n",
              "\n",
              "    .colab-df-convert:hover {\n",
              "      background-color: #E2EBFA;\n",
              "      box-shadow: 0px 1px 2px rgba(60, 64, 67, 0.3), 0px 1px 3px 1px rgba(60, 64, 67, 0.15);\n",
              "      fill: #174EA6;\n",
              "    }\n",
              "\n",
              "    [theme=dark] .colab-df-convert {\n",
              "      background-color: #3B4455;\n",
              "      fill: #D2E3FC;\n",
              "    }\n",
              "\n",
              "    [theme=dark] .colab-df-convert:hover {\n",
              "      background-color: #434B5C;\n",
              "      box-shadow: 0px 1px 3px 1px rgba(0, 0, 0, 0.15);\n",
              "      filter: drop-shadow(0px 1px 2px rgba(0, 0, 0, 0.3));\n",
              "      fill: #FFFFFF;\n",
              "    }\n",
              "  </style>\n",
              "\n",
              "      <script>\n",
              "        const buttonEl =\n",
              "          document.querySelector('#df-c9ddd758-a497-4cc1-aaeb-52b66f431265 button.colab-df-convert');\n",
              "        buttonEl.style.display =\n",
              "          google.colab.kernel.accessAllowed ? 'block' : 'none';\n",
              "\n",
              "        async function convertToInteractive(key) {\n",
              "          const element = document.querySelector('#df-c9ddd758-a497-4cc1-aaeb-52b66f431265');\n",
              "          const dataTable =\n",
              "            await google.colab.kernel.invokeFunction('convertToInteractive',\n",
              "                                                     [key], {});\n",
              "          if (!dataTable) return;\n",
              "\n",
              "          const docLinkHtml = 'Like what you see? Visit the ' +\n",
              "            '<a target=\"_blank\" href=https://colab.research.google.com/notebooks/data_table.ipynb>data table notebook</a>'\n",
              "            + ' to learn more about interactive tables.';\n",
              "          element.innerHTML = '';\n",
              "          dataTable['output_type'] = 'display_data';\n",
              "          await google.colab.output.renderOutput(dataTable, element);\n",
              "          const docLink = document.createElement('div');\n",
              "          docLink.innerHTML = docLinkHtml;\n",
              "          element.appendChild(docLink);\n",
              "        }\n",
              "      </script>\n",
              "    </div>\n",
              "  </div>\n",
              "  "
            ],
            "text/plain": [
              "                 model  Accuracy  Precision    Recall      F1\n",
              "0  Logistic Regression  0.990991        1.0  0.975309  0.9875\n",
              "0                  SVM  1.000000        1.0  1.000000  1.0000\n",
              "0        Decision Tree  1.000000        1.0  1.000000  1.0000"
            ]
          },
          "execution_count": 29,
          "metadata": {},
          "output_type": "execute_result"
        }
      ],
      "source": [
        "performance"
      ]
    },
    {
      "cell_type": "code",
      "execution_count": null,
      "metadata": {
        "colab": {
          "base_uri": "https://localhost:8080/",
          "height": 143
        },
        "id": "K33skouUuiSl",
        "outputId": "5cc2958f-a75c-4d92-e578-4a00b0bf92bd"
      },
      "outputs": [
        {
          "data": {
            "text/html": [
              "\n",
              "  <div id=\"df-aff38910-43dc-4409-bd16-e370eea5b49d\">\n",
              "    <div class=\"colab-df-container\">\n",
              "      <div>\n",
              "<style scoped>\n",
              "    .dataframe tbody tr th:only-of-type {\n",
              "        vertical-align: middle;\n",
              "    }\n",
              "\n",
              "    .dataframe tbody tr th {\n",
              "        vertical-align: top;\n",
              "    }\n",
              "\n",
              "    .dataframe thead th {\n",
              "        text-align: right;\n",
              "    }\n",
              "</style>\n",
              "<table border=\"1\" class=\"dataframe\">\n",
              "  <thead>\n",
              "    <tr style=\"text-align: right;\">\n",
              "      <th></th>\n",
              "      <th>model</th>\n",
              "      <th>Accuracy</th>\n",
              "      <th>Precision</th>\n",
              "      <th>Recall</th>\n",
              "      <th>F1</th>\n",
              "    </tr>\n",
              "  </thead>\n",
              "  <tbody>\n",
              "    <tr>\n",
              "      <th>0</th>\n",
              "      <td>Logistic Regression</td>\n",
              "      <td>0.990991</td>\n",
              "      <td>1.0</td>\n",
              "      <td>0.975309</td>\n",
              "      <td>0.9875</td>\n",
              "    </tr>\n",
              "    <tr>\n",
              "      <th>0</th>\n",
              "      <td>SVM</td>\n",
              "      <td>1.000000</td>\n",
              "      <td>1.0</td>\n",
              "      <td>1.000000</td>\n",
              "      <td>1.0000</td>\n",
              "    </tr>\n",
              "    <tr>\n",
              "      <th>0</th>\n",
              "      <td>Decision Tree</td>\n",
              "      <td>1.000000</td>\n",
              "      <td>1.0</td>\n",
              "      <td>1.000000</td>\n",
              "      <td>1.0000</td>\n",
              "    </tr>\n",
              "  </tbody>\n",
              "</table>\n",
              "</div>\n",
              "      <button class=\"colab-df-convert\" onclick=\"convertToInteractive('df-aff38910-43dc-4409-bd16-e370eea5b49d')\"\n",
              "              title=\"Convert this dataframe to an interactive table.\"\n",
              "              style=\"display:none;\">\n",
              "        \n",
              "  <svg xmlns=\"http://www.w3.org/2000/svg\" height=\"24px\"viewBox=\"0 0 24 24\"\n",
              "       width=\"24px\">\n",
              "    <path d=\"M0 0h24v24H0V0z\" fill=\"none\"/>\n",
              "    <path d=\"M18.56 5.44l.94 2.06.94-2.06 2.06-.94-2.06-.94-.94-2.06-.94 2.06-2.06.94zm-11 1L8.5 8.5l.94-2.06 2.06-.94-2.06-.94L8.5 2.5l-.94 2.06-2.06.94zm10 10l.94 2.06.94-2.06 2.06-.94-2.06-.94-.94-2.06-.94 2.06-2.06.94z\"/><path d=\"M17.41 7.96l-1.37-1.37c-.4-.4-.92-.59-1.43-.59-.52 0-1.04.2-1.43.59L10.3 9.45l-7.72 7.72c-.78.78-.78 2.05 0 2.83L4 21.41c.39.39.9.59 1.41.59.51 0 1.02-.2 1.41-.59l7.78-7.78 2.81-2.81c.8-.78.8-2.07 0-2.86zM5.41 20L4 18.59l7.72-7.72 1.47 1.35L5.41 20z\"/>\n",
              "  </svg>\n",
              "      </button>\n",
              "      \n",
              "  <style>\n",
              "    .colab-df-container {\n",
              "      display:flex;\n",
              "      flex-wrap:wrap;\n",
              "      gap: 12px;\n",
              "    }\n",
              "\n",
              "    .colab-df-convert {\n",
              "      background-color: #E8F0FE;\n",
              "      border: none;\n",
              "      border-radius: 50%;\n",
              "      cursor: pointer;\n",
              "      display: none;\n",
              "      fill: #1967D2;\n",
              "      height: 32px;\n",
              "      padding: 0 0 0 0;\n",
              "      width: 32px;\n",
              "    }\n",
              "\n",
              "    .colab-df-convert:hover {\n",
              "      background-color: #E2EBFA;\n",
              "      box-shadow: 0px 1px 2px rgba(60, 64, 67, 0.3), 0px 1px 3px 1px rgba(60, 64, 67, 0.15);\n",
              "      fill: #174EA6;\n",
              "    }\n",
              "\n",
              "    [theme=dark] .colab-df-convert {\n",
              "      background-color: #3B4455;\n",
              "      fill: #D2E3FC;\n",
              "    }\n",
              "\n",
              "    [theme=dark] .colab-df-convert:hover {\n",
              "      background-color: #434B5C;\n",
              "      box-shadow: 0px 1px 3px 1px rgba(0, 0, 0, 0.15);\n",
              "      filter: drop-shadow(0px 1px 2px rgba(0, 0, 0, 0.3));\n",
              "      fill: #FFFFFF;\n",
              "    }\n",
              "  </style>\n",
              "\n",
              "      <script>\n",
              "        const buttonEl =\n",
              "          document.querySelector('#df-aff38910-43dc-4409-bd16-e370eea5b49d button.colab-df-convert');\n",
              "        buttonEl.style.display =\n",
              "          google.colab.kernel.accessAllowed ? 'block' : 'none';\n",
              "\n",
              "        async function convertToInteractive(key) {\n",
              "          const element = document.querySelector('#df-aff38910-43dc-4409-bd16-e370eea5b49d');\n",
              "          const dataTable =\n",
              "            await google.colab.kernel.invokeFunction('convertToInteractive',\n",
              "                                                     [key], {});\n",
              "          if (!dataTable) return;\n",
              "\n",
              "          const docLinkHtml = 'Like what you see? Visit the ' +\n",
              "            '<a target=\"_blank\" href=https://colab.research.google.com/notebooks/data_table.ipynb>data table notebook</a>'\n",
              "            + ' to learn more about interactive tables.';\n",
              "          element.innerHTML = '';\n",
              "          dataTable['output_type'] = 'display_data';\n",
              "          await google.colab.output.renderOutput(dataTable, element);\n",
              "          const docLink = document.createElement('div');\n",
              "          docLink.innerHTML = docLinkHtml;\n",
              "          element.appendChild(docLink);\n",
              "        }\n",
              "      </script>\n",
              "    </div>\n",
              "  </div>\n",
              "  "
            ],
            "text/plain": [
              "                 model  Accuracy  Precision    Recall      F1\n",
              "0  Logistic Regression  0.990991        1.0  0.975309  0.9875\n",
              "0                  SVM  1.000000        1.0  1.000000  1.0000\n",
              "0        Decision Tree  1.000000        1.0  1.000000  1.0000"
            ]
          },
          "execution_count": 30,
          "metadata": {},
          "output_type": "execute_result"
        }
      ],
      "source": [
        "performance.sort_values(by=['Accuracy'])"
      ]
    },
    {
      "cell_type": "code",
      "source": [
        "# Neural networks performance which is added \n",
        "performance"
      ],
      "metadata": {
        "colab": {
          "base_uri": "https://localhost:8080/",
          "height": 80
        },
        "id": "ShTKd057Cr1j",
        "outputId": "e7d784d9-39e8-4d7e-b81f-e237e42fbffa"
      },
      "execution_count": 19,
      "outputs": [
        {
          "output_type": "execute_result",
          "data": {
            "text/plain": [
              "     model  Accuracy  Precision    Recall      F1\n",
              "0  NN_grid  0.990991        1.0  0.975309  0.9875"
            ],
            "text/html": [
              "\n",
              "  <div id=\"df-43400457-184f-4bee-a80f-d1b39f240660\">\n",
              "    <div class=\"colab-df-container\">\n",
              "      <div>\n",
              "<style scoped>\n",
              "    .dataframe tbody tr th:only-of-type {\n",
              "        vertical-align: middle;\n",
              "    }\n",
              "\n",
              "    .dataframe tbody tr th {\n",
              "        vertical-align: top;\n",
              "    }\n",
              "\n",
              "    .dataframe thead th {\n",
              "        text-align: right;\n",
              "    }\n",
              "</style>\n",
              "<table border=\"1\" class=\"dataframe\">\n",
              "  <thead>\n",
              "    <tr style=\"text-align: right;\">\n",
              "      <th></th>\n",
              "      <th>model</th>\n",
              "      <th>Accuracy</th>\n",
              "      <th>Precision</th>\n",
              "      <th>Recall</th>\n",
              "      <th>F1</th>\n",
              "    </tr>\n",
              "  </thead>\n",
              "  <tbody>\n",
              "    <tr>\n",
              "      <th>0</th>\n",
              "      <td>NN_grid</td>\n",
              "      <td>0.990991</td>\n",
              "      <td>1.0</td>\n",
              "      <td>0.975309</td>\n",
              "      <td>0.9875</td>\n",
              "    </tr>\n",
              "  </tbody>\n",
              "</table>\n",
              "</div>\n",
              "      <button class=\"colab-df-convert\" onclick=\"convertToInteractive('df-43400457-184f-4bee-a80f-d1b39f240660')\"\n",
              "              title=\"Convert this dataframe to an interactive table.\"\n",
              "              style=\"display:none;\">\n",
              "        \n",
              "  <svg xmlns=\"http://www.w3.org/2000/svg\" height=\"24px\"viewBox=\"0 0 24 24\"\n",
              "       width=\"24px\">\n",
              "    <path d=\"M0 0h24v24H0V0z\" fill=\"none\"/>\n",
              "    <path d=\"M18.56 5.44l.94 2.06.94-2.06 2.06-.94-2.06-.94-.94-2.06-.94 2.06-2.06.94zm-11 1L8.5 8.5l.94-2.06 2.06-.94-2.06-.94L8.5 2.5l-.94 2.06-2.06.94zm10 10l.94 2.06.94-2.06 2.06-.94-2.06-.94-.94-2.06-.94 2.06-2.06.94z\"/><path d=\"M17.41 7.96l-1.37-1.37c-.4-.4-.92-.59-1.43-.59-.52 0-1.04.2-1.43.59L10.3 9.45l-7.72 7.72c-.78.78-.78 2.05 0 2.83L4 21.41c.39.39.9.59 1.41.59.51 0 1.02-.2 1.41-.59l7.78-7.78 2.81-2.81c.8-.78.8-2.07 0-2.86zM5.41 20L4 18.59l7.72-7.72 1.47 1.35L5.41 20z\"/>\n",
              "  </svg>\n",
              "      </button>\n",
              "      \n",
              "  <style>\n",
              "    .colab-df-container {\n",
              "      display:flex;\n",
              "      flex-wrap:wrap;\n",
              "      gap: 12px;\n",
              "    }\n",
              "\n",
              "    .colab-df-convert {\n",
              "      background-color: #E8F0FE;\n",
              "      border: none;\n",
              "      border-radius: 50%;\n",
              "      cursor: pointer;\n",
              "      display: none;\n",
              "      fill: #1967D2;\n",
              "      height: 32px;\n",
              "      padding: 0 0 0 0;\n",
              "      width: 32px;\n",
              "    }\n",
              "\n",
              "    .colab-df-convert:hover {\n",
              "      background-color: #E2EBFA;\n",
              "      box-shadow: 0px 1px 2px rgba(60, 64, 67, 0.3), 0px 1px 3px 1px rgba(60, 64, 67, 0.15);\n",
              "      fill: #174EA6;\n",
              "    }\n",
              "\n",
              "    [theme=dark] .colab-df-convert {\n",
              "      background-color: #3B4455;\n",
              "      fill: #D2E3FC;\n",
              "    }\n",
              "\n",
              "    [theme=dark] .colab-df-convert:hover {\n",
              "      background-color: #434B5C;\n",
              "      box-shadow: 0px 1px 3px 1px rgba(0, 0, 0, 0.15);\n",
              "      filter: drop-shadow(0px 1px 2px rgba(0, 0, 0, 0.3));\n",
              "      fill: #FFFFFF;\n",
              "    }\n",
              "  </style>\n",
              "\n",
              "      <script>\n",
              "        const buttonEl =\n",
              "          document.querySelector('#df-43400457-184f-4bee-a80f-d1b39f240660 button.colab-df-convert');\n",
              "        buttonEl.style.display =\n",
              "          google.colab.kernel.accessAllowed ? 'block' : 'none';\n",
              "\n",
              "        async function convertToInteractive(key) {\n",
              "          const element = document.querySelector('#df-43400457-184f-4bee-a80f-d1b39f240660');\n",
              "          const dataTable =\n",
              "            await google.colab.kernel.invokeFunction('convertToInteractive',\n",
              "                                                     [key], {});\n",
              "          if (!dataTable) return;\n",
              "\n",
              "          const docLinkHtml = 'Like what you see? Visit the ' +\n",
              "            '<a target=\"_blank\" href=https://colab.research.google.com/notebooks/data_table.ipynb>data table notebook</a>'\n",
              "            + ' to learn more about interactive tables.';\n",
              "          element.innerHTML = '';\n",
              "          dataTable['output_type'] = 'display_data';\n",
              "          await google.colab.output.renderOutput(dataTable, element);\n",
              "          const docLink = document.createElement('div');\n",
              "          docLink.innerHTML = docLinkHtml;\n",
              "          element.appendChild(docLink);\n",
              "        }\n",
              "      </script>\n",
              "    </div>\n",
              "  </div>\n",
              "  "
            ]
          },
          "metadata": {},
          "execution_count": 19
        }
      ]
    },
    {
      "cell_type": "markdown",
      "metadata": {
        "id": "CMKD2I2xuq7t"
      },
      "source": [
        "## ANALYSIS OF MODELS "
      ]
    },
    {
      "cell_type": "markdown",
      "metadata": {
        "id": "nfWjzYgsutC-"
      },
      "source": [
        "##Summary and Analysis: \n",
        "\n",
        "The problem statement is related to the Human Resources(HR) Analytics where the employee's absence can be validated using various reasons which can potentially impact the weightage for the decision of promotion and  elimination at the company.\n",
        "\n",
        "Here, the False Negative (where we predict the employee is not absent but in actuality, he is absent) and False Positive (where we predict the employee is absent but in actuality, he is not absent) both of them have the equal priority as it may help in adding weightage at the decision making process for the promotion or elimination in the company.\n",
        "Hence, The **Accuracy** is considered here as the main parameter for the decision of the best fitting model for the data chosen."
      ]
    },
    {
      "cell_type": "markdown",
      "metadata": {
        "id": "pIK8L3ZL5Zw2"
      },
      "source": [
        "The performance of three distinct machine learning models—Logistic Regression, Support Vector Machine (SVM), and Decision Tree are evaluated.\n",
        "\n",
        "**Impact from Preprocessing data:**\n",
        "The 3 predictors are label encoded and 7 predictors are hot encoded leading to many zeroes and ones in the data while processing. The resulted data from pre processing is encoded, splitted, balanced, regularized and early stopped for better training and reduce overfitting while fitting the data set into these models. The regularization and early stopping is introduced for the reduction of over fitting as mentioned in the python cheatsheet from the ppt given in the modules.The data contains 741 rows(limited dataset) and is very well trained and contains more zeros and ones because of the encoding and scaling. Hence the scoring parameters accuracy is high for the model fitted. If the dataset had many entries, then the training and testing can be effective compatred to a limited entry dataset.\n",
        "\n",
        "Accuracy:\n",
        "The percentage of properly identified cases relative to all instances is how accuracy is calculated.\n",
        "The SVM and Decision Tree models both get a perfect score of 1.0, and all three models have exceptional accuracy.\n",
        "\n",
        "Precision:\n",
        "The percentage of accurate positive predictions compared to all positive forecasts is known as precision.\n",
        "All three models have an accuracy score of 1.0, which means that all successful predictions are made.\n",
        "\n",
        "Recall:\n",
        "Recall quantifies the percentage of correct positive predictions among all actual positive occurrences.\n",
        "With the SVM scoring a perfect 1.0, all three models exhibit good recall. \n",
        "\n",
        "F1 Score:\n",
        "The F1 score, which is a balanced indicator of the model's performance, is the harmonic mean of accuracy and recall.\n",
        "The Decision Tree and Logistic Regression models each received a score of 1.0, while the SVM model also received a score of 1.0, giving all three models strong F1 scores.\n",
        "\n",
        "\n",
        "Overall, based on their excellent accuracy scores on the provided dataset, we can say that all three models have done quite well. The data is trained good but more analysis and testing may be necessary to determine the real effectiveness of these models."
      ]
    },
    {
      "cell_type": "markdown",
      "source": [
        "### ANALYSIS FOR NEURAL NETWORK ADDED:\n",
        "The three predictors are label encoded and 7 predictors are hot encoded leading to many zeroes and ones in the data while processing. The resulted data from pre processing is encoded, splitted, balanced, regularized and early stopped for better training and reduce overfitting while fitting the data set into these models. The regularization and early stopping is introduced for the reduction of over fitting as mentioned in the python cheatsheet from the ppt given in the modules.The data contains 741 rows(limited dataset) and is very well trained and contains more zeros and ones because of the encoding and scaling. Hence the scoring parameters accuracy is high for the model fitted. \n",
        "\n",
        "Hence, The data set fits neural networks also very well and generated maximum of 99% of accuracy almost similar to the other models and there is no much drastic difference observed because of the type and size of the dataset chosen which has trained well. Neural network also have good f1 score which is 0.98 and good recall score of 0.97. If the dataset had many entries, then the training and testing can be effective compared to a limited entry dataset."
      ],
      "metadata": {
        "id": "jfrH2dkIDGZR"
      }
    },
    {
      "cell_type": "code",
      "source": [],
      "metadata": {
        "id": "7xYjZy1gHMzs"
      },
      "execution_count": null,
      "outputs": []
    }
  ],
  "metadata": {
    "accelerator": "GPU",
    "colab": {
      "provenance": []
    },
    "gpuClass": "standard",
    "kernelspec": {
      "display_name": "Python 3 (ipykernel)",
      "language": "python",
      "name": "python3"
    },
    "language_info": {
      "codemirror_mode": {
        "name": "ipython",
        "version": 3
      },
      "file_extension": ".py",
      "mimetype": "text/x-python",
      "name": "python",
      "nbconvert_exporter": "python",
      "pygments_lexer": "ipython3",
      "version": "3.9.12"
    }
  },
  "nbformat": 4,
  "nbformat_minor": 0
}